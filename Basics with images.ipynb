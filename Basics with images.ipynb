{
 "cells": [
  {
   "cell_type": "code",
   "execution_count": 2,
   "metadata": {},
   "outputs": [],
   "source": [
    "#Basic libraries needed to read the image file\n",
    "#OpenCV is used to work with images whereas numpy is used to work with arrays as all image files are converted to that format\n",
    "import cv2\n",
    "import numpy as np"
   ]
  },
  {
   "cell_type": "code",
   "execution_count": 3,
   "metadata": {},
   "outputs": [
    {
     "name": "stdout",
     "output_type": "stream",
     "text": [
      "The grey image is represented by: [[121 114 119 ... 156 156 158]\n",
      " [117 109 112 ... 169 171 173]\n",
      " [112 106 110 ... 165 167 169]\n",
      " ...\n",
      " [140 142 145 ... 123 125 127]\n",
      " [134 136 137 ... 126 127 127]\n",
      " [140 140 140 ... 139 136 134]]\n",
      "----------------------------------\n",
      "The color image is represented by: [[[ 91 126 122]\n",
      "  [ 84 119 115]\n",
      "  [ 87 124 120]\n",
      "  ...\n",
      "  [103 168 153]\n",
      "  [103 168 153]\n",
      "  [105 170 155]]\n",
      "\n",
      " [[ 87 122 118]\n",
      "  [ 77 114 110]\n",
      "  [ 80 117 113]\n",
      "  ...\n",
      "  [114 181 166]\n",
      "  [116 183 168]\n",
      "  [118 186 169]]\n",
      "\n",
      " [[ 82 117 113]\n",
      "  [ 74 111 107]\n",
      "  [ 78 115 111]\n",
      "  ...\n",
      "  [107 178 161]\n",
      "  [109 180 163]\n",
      "  [111 182 165]]\n",
      "\n",
      " ...\n",
      "\n",
      " [[113 157 116]\n",
      "  [115 160 117]\n",
      "  [120 163 120]\n",
      "  ...\n",
      "  [109 139  98]\n",
      "  [111 141  98]\n",
      "  [111 144 100]]\n",
      "\n",
      " [[107 151 112]\n",
      "  [109 153 112]\n",
      "  [112 155 112]\n",
      "  ...\n",
      "  [112 143  98]\n",
      "  [113 144  99]\n",
      "  [111 144  99]]\n",
      "\n",
      " [[113 157 118]\n",
      "  [113 157 118]\n",
      "  [115 157 116]\n",
      "  ...\n",
      "  [125 156 111]\n",
      "  [122 154 107]\n",
      "  [118 152 105]]]\n",
      "----------------------------------\n",
      "The unchanged image is represented by: [[[ 91 126 122]\n",
      "  [ 84 119 115]\n",
      "  [ 87 124 120]\n",
      "  ...\n",
      "  [103 168 153]\n",
      "  [103 168 153]\n",
      "  [105 170 155]]\n",
      "\n",
      " [[ 87 122 118]\n",
      "  [ 77 114 110]\n",
      "  [ 80 117 113]\n",
      "  ...\n",
      "  [114 181 166]\n",
      "  [116 183 168]\n",
      "  [118 186 169]]\n",
      "\n",
      " [[ 82 117 113]\n",
      "  [ 74 111 107]\n",
      "  [ 78 115 111]\n",
      "  ...\n",
      "  [107 178 161]\n",
      "  [109 180 163]\n",
      "  [111 182 165]]\n",
      "\n",
      " ...\n",
      "\n",
      " [[113 157 116]\n",
      "  [115 160 117]\n",
      "  [120 163 120]\n",
      "  ...\n",
      "  [109 139  98]\n",
      "  [111 141  98]\n",
      "  [111 144 100]]\n",
      "\n",
      " [[107 151 112]\n",
      "  [109 153 112]\n",
      "  [112 155 112]\n",
      "  ...\n",
      "  [112 143  98]\n",
      "  [113 144  99]\n",
      "  [111 144  99]]\n",
      "\n",
      " [[113 157 118]\n",
      "  [113 157 118]\n",
      "  [115 157 116]\n",
      "  ...\n",
      "  [125 156 111]\n",
      "  [122 154 107]\n",
      "  [118 152 105]]]\n"
     ]
    }
   ],
   "source": [
    "#Import your file using 'imread' and pass parameter 0:greyscale, 1:colorimage, -1:import unchanged image\n",
    "greyimg=cv2.imread('apple.jpg',0)\n",
    "colorimg=cv2.imread('apple.jpg',1)\n",
    "unchangedimg=cv2.imread('apple.jpg',-1)\n",
    "#print the array of image which is stored on a variable\n",
    "print(\"The grey image is represented by: \"+str(greyimg))\n",
    "print(\"----------------------------------\")\n",
    "print(\"The color image is represented by: \"+str(colorimg))\n",
    "print(\"----------------------------------\")\n",
    "print(\"The unchanged image is represented by: \"+str(unchangedimg))"
   ]
  },
  {
   "cell_type": "code",
   "execution_count": 4,
   "metadata": {},
   "outputs": [
    {
     "data": {
      "text/plain": [
       "True"
      ]
     },
     "execution_count": 4,
     "metadata": {},
     "output_type": "execute_result"
    }
   ],
   "source": [
    "#print the image stored using 'imshow' parameter where 'image' refers to the name of the window and reference variable passed\n",
    "cv2.imshow('image',greyimg)\n",
    "cv2.imshow('image1',colorimg)\n",
    "cv2.imshow('image2',unchangedimg)\n",
    "while(True):\n",
    "    if cv2.waitKey(1) & 0xFF == ord('q'):\n",
    "        break\n",
    "#waitkey is used to hold the image on a window for 5s\n",
    "cv2.imwrite('greyimg.jpg',greyimg)"
   ]
  },
  {
   "cell_type": "code",
   "execution_count": null,
   "metadata": {},
   "outputs": [],
   "source": []
  }
 ],
 "metadata": {
  "kernelspec": {
   "display_name": "Python 3",
   "language": "python",
   "name": "python3"
  },
  "language_info": {
   "codemirror_mode": {
    "name": "ipython",
    "version": 3
   },
   "file_extension": ".py",
   "mimetype": "text/x-python",
   "name": "python",
   "nbconvert_exporter": "python",
   "pygments_lexer": "ipython3",
   "version": "3.7.5"
  }
 },
 "nbformat": 4,
 "nbformat_minor": 2
}
