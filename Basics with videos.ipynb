{
 "cells": [
  {
   "cell_type": "code",
   "execution_count": 1,
   "metadata": {},
   "outputs": [],
   "source": [
    "#Defining basic libraries\n",
    "import cv2"
   ]
  },
  {
   "cell_type": "code",
   "execution_count": 2,
   "metadata": {},
   "outputs": [
    {
     "name": "stdout",
     "output_type": "stream",
     "text": [
      "To check if the camera device is ready: True\n"
     ]
    }
   ],
   "source": [
    "#Using defalt camera at Index 0\n",
    "cap=cv2.VideoCapture(0)\n",
    "print(\"To check if the camera device is ready: \"+str(cap.isOpened()))\n",
    "\n",
    "#Run a while loop to infinitely read frames\n",
    "while(cap.isOpened()):\n",
    "    #ret stores true value whereas frame stores the frame by frame value\n",
    "    ret,frame=cap.read()\n",
    "    #Display the frame\n",
    "    cv2.imshow('frame',frame)\n",
    "    #Quits ONLY if we use the keyword 'q'\n",
    "    if cv2.waitKey(1) & 0xFF == ord('q'):\n",
    "        break\n",
    "\n",
    "cap.release()\n",
    "cv2.destroyAllWindows()"
   ]
  },
  {
   "cell_type": "code",
   "execution_count": 3,
   "metadata": {},
   "outputs": [
    {
     "name": "stdout",
     "output_type": "stream",
     "text": [
      "To check if the camera device is ready: True\n"
     ]
    }
   ],
   "source": [
    "cap=cv2.VideoCapture(0)\n",
    "print(\"To check if the camera device is ready: \"+str(cap.isOpened()))\n",
    "#To read grayframes\n",
    "while(True):\n",
    "    ret,frame=cap.read()\n",
    "    grayframes=cv2.cvtColor(frame,cv2.COLOR_BGR2GRAY)\n",
    "    cv2.imshow('frame',grayframes)\n",
    "    if cv2.waitKey(1) & 0xFF == ord('q'):\n",
    "        break\n",
    "\n",
    "cap.release()\n",
    "cv2.destroyAllWindows()"
   ]
  },
  {
   "cell_type": "code",
   "execution_count": 4,
   "metadata": {},
   "outputs": [
    {
     "name": "stdout",
     "output_type": "stream",
     "text": [
      "width: 3\n",
      "width: 4\n",
      "width: 3\n",
      "width: 4\n",
      "width: 3\n",
      "width: 4\n",
      "width: 3\n",
      "width: 4\n",
      "width: 3\n",
      "width: 4\n",
      "width: 3\n",
      "width: 4\n",
      "width: 3\n",
      "width: 4\n",
      "width: 3\n",
      "width: 4\n",
      "width: 3\n",
      "width: 4\n",
      "width: 3\n",
      "width: 4\n",
      "width: 3\n",
      "width: 4\n",
      "width: 3\n",
      "width: 4\n",
      "width: 3\n",
      "width: 4\n",
      "width: 3\n",
      "width: 4\n",
      "width: 3\n",
      "width: 4\n",
      "width: 3\n",
      "width: 4\n",
      "width: 3\n",
      "width: 4\n",
      "width: 3\n",
      "width: 4\n",
      "width: 3\n",
      "width: 4\n",
      "width: 3\n",
      "width: 4\n",
      "width: 3\n",
      "width: 4\n",
      "width: 3\n",
      "width: 4\n",
      "width: 3\n",
      "width: 4\n",
      "width: 3\n",
      "width: 4\n",
      "width: 3\n",
      "width: 4\n",
      "width: 3\n",
      "width: 4\n",
      "width: 3\n",
      "width: 4\n",
      "width: 3\n",
      "width: 4\n",
      "width: 3\n",
      "width: 4\n",
      "width: 3\n",
      "width: 4\n",
      "width: 3\n",
      "width: 4\n",
      "width: 3\n",
      "width: 4\n",
      "width: 3\n",
      "width: 4\n",
      "width: 3\n",
      "width: 4\n",
      "width: 3\n",
      "width: 4\n",
      "width: 3\n",
      "width: 4\n",
      "width: 3\n",
      "width: 4\n",
      "width: 3\n",
      "width: 4\n",
      "width: 3\n",
      "width: 4\n",
      "width: 3\n",
      "width: 4\n",
      "width: 3\n",
      "width: 4\n",
      "width: 3\n",
      "width: 4\n",
      "width: 3\n",
      "width: 4\n",
      "width: 3\n",
      "width: 4\n",
      "width: 3\n",
      "width: 4\n",
      "width: 3\n",
      "width: 4\n",
      "width: 3\n",
      "width: 4\n",
      "width: 3\n",
      "width: 4\n",
      "width: 3\n",
      "width: 4\n",
      "width: 3\n",
      "width: 4\n",
      "width: 3\n",
      "width: 4\n",
      "width: 3\n",
      "width: 4\n",
      "width: 3\n",
      "width: 4\n",
      "width: 3\n",
      "width: 4\n",
      "width: 3\n",
      "width: 4\n",
      "width: 3\n",
      "width: 4\n",
      "width: 3\n",
      "width: 4\n"
     ]
    }
   ],
   "source": [
    "#To check height and width of incoming frames\n",
    "cap=cv2.VideoCapture(0)\n",
    "while(cap.isOpened()):\n",
    "    ret,frame=cap.read()\n",
    "    cv2.imshow('frame',frame)\n",
    "    print(\"width: \"+str(cv2.CAP_PROP_FRAME_WIDTH))\n",
    "    print(\"width: \"+str(cv2.CAP_PROP_FRAME_HEIGHT))\n",
    "    if cv2.waitKey(1) & 0xFF == ord('q'):\n",
    "        break\n",
    "\n",
    "cap.release()\n",
    "cv2.destroyAllWindows()"
   ]
  },
  {
   "cell_type": "code",
   "execution_count": 5,
   "metadata": {},
   "outputs": [],
   "source": [
    "#To save a given video which we are taking in as input\n",
    "cap=cv2.VideoCapture(0)\n",
    "fourcc=cv2.VideoWriter_fourcc(*'XVID')\n",
    "output=cv2.VideoWriter('output.avi',fourcc,20,(4,3))\n",
    "while(cap.isOpened()):\n",
    "    ret,frame=cap.read()\n",
    "    cv2.imshow('frame',frame)\n",
    "    output.write(frame)\n",
    "    if cv2.waitKey(1) & 0xFF==ord('q'):\n",
    "        break\n",
    "cap.release()\n",
    "output.release()\n",
    "cv2.destroyAllWindows()"
   ]
  },
  {
   "cell_type": "code",
   "execution_count": null,
   "metadata": {},
   "outputs": [],
   "source": []
  }
 ],
 "metadata": {
  "kernelspec": {
   "display_name": "Python 3",
   "language": "python",
   "name": "python3"
  },
  "language_info": {
   "codemirror_mode": {
    "name": "ipython",
    "version": 3
   },
   "file_extension": ".py",
   "mimetype": "text/x-python",
   "name": "python",
   "nbconvert_exporter": "python",
   "pygments_lexer": "ipython3",
   "version": "3.7.5"
  }
 },
 "nbformat": 4,
 "nbformat_minor": 2
}
